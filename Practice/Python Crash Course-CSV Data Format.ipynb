{
 "cells": [
  {
   "cell_type": "markdown",
   "metadata": {},
   "source": [
    "### CSV Data Format"
   ]
  },
  {
   "cell_type": "markdown",
   "metadata": {},
   "source": [
    "* A comma-separated values (CSV) file is a **delimited** text file that uses a comma to separate values. \n",
    "\n",
    "* Each line of the file is a data record. Each record consists of one or more fields, separated by commas. \n",
    "\n",
    "* The use of the comma as a field separator is the source of the name for this file format. \n",
    "\n",
    "* A CSV file typically stores tabular data (numbers and text) in plain text, in which case each line will have the same number of fields.\n",
    "\n",
    "*Source: Wikipedia*"
   ]
  },
  {
   "cell_type": "markdown",
   "metadata": {},
   "source": [
    "#### Brute-force handling of CSV formats"
   ]
  },
  {
   "cell_type": "code",
   "execution_count": 1,
   "metadata": {},
   "outputs": [
    {
     "name": "stdout",
     "output_type": "stream",
     "text": [
      "id,nickname,course\n",
      "39001,Quarantina,BSMAC\n",
      "39002,Tuob,BSMGT\n",
      "39003,Ube,BSMGT\n",
      "39004,Newnorm,BSMGT\n",
      "39005,Quarantino,BSMGT\n",
      "39006,ECQUiel,BSMGT\n",
      "39007,Vico,BSMGT\n",
      "39008,Covid Marie,BSMGT\n",
      "39009,Lala,BSMGTH\n",
      "\n"
     ]
    }
   ],
   "source": [
    "# demo: define long string\n",
    "\n",
    "students = \"\"\"id,nickname,course\n",
    "39001,Quarantina,BSMAC\n",
    "39002,Tuob,BSMGT\n",
    "39003,Ube,BSMGT\n",
    "39004,Newnorm,BSMGT\n",
    "39005,Quarantino,BSMGT\n",
    "39006,ECQUiel,BSMGT\n",
    "39007,Vico,BSMGT\n",
    "39008,Covid Marie,BSMGT\n",
    "39009,Lala,BSMGTH\n",
    "\"\"\"\n",
    "\n",
    "# dump students string\n",
    "print(students)\n",
    "\n",
    "# demo importing to Excel\n",
    "## save to file\n",
    "\n",
    "with open(\"students.csv\",\"w\") as f:\n",
    "    f.write(students)"
   ]
  },
  {
   "cell_type": "code",
   "execution_count": 4,
   "metadata": {},
   "outputs": [
    {
     "name": "stdout",
     "output_type": "stream",
     "text": [
      "﻿id,nickname,course\n",
      "39001,Quarantina,BSMAC\n",
      "39002,Tuob,BSMGT\n",
      "39003,Ube,BSMGT\n",
      "39004,Newnorm,BSMGT\n",
      "39005,Quarantino,BSMGT\n",
      "39006,ECQUiel,BSMGT\n",
      "39007,Vico,BSMGT\n",
      "39008,Covid Marie,BSMGT\n",
      "39009,Lala,BSMGTH\n",
      "39010,Covid Lee,BSME\n",
      "39011,Pandemica,BSME\n"
     ]
    }
   ],
   "source": [
    "with open(\"updated_students.csv\",\"r\") as f:\n",
    "     updated_students = f.read()\n",
    "\n",
    "print(updated_students)"
   ]
  },
  {
   "cell_type": "code",
   "execution_count": 5,
   "metadata": {},
   "outputs": [
    {
     "name": "stdout",
     "output_type": "stream",
     "text": [
      "['\\ufeffid,nickname,course', '39001,Quarantina,BSMAC', '39002,Tuob,BSMGT', '39003,Ube,BSMGT', '39004,Newnorm,BSMGT', '39005,Quarantino,BSMGT', '39006,ECQUiel,BSMGT', '39007,Vico,BSMGT', '39008,Covid Marie,BSMGT', '39009,Lala,BSMGTH', '39010,Covid Lee,BSME', '39011,Pandemica,BSME']\n"
     ]
    }
   ],
   "source": [
    "# demo: split student doc into a list of lines\n",
    "students_list = updated_students.split(\"\\n\")\n",
    "print(students_list)\n"
   ]
  },
  {
   "cell_type": "code",
   "execution_count": 7,
   "metadata": {},
   "outputs": [
    {
     "name": "stdout",
     "output_type": "stream",
     "text": [
      "[['\\ufeffid', 'nickname', 'course'], ['39001', 'Quarantina', 'BSMAC'], ['39002', 'Tuob', 'BSMGT'], ['39003', 'Ube', 'BSMGT'], ['39004', 'Newnorm', 'BSMGT'], ['39005', 'Quarantino', 'BSMGT'], ['39006', 'ECQUiel', 'BSMGT'], ['39007', 'Vico', 'BSMGT'], ['39008', 'Covid Marie', 'BSMGT'], ['39009', 'Lala', 'BSMGTH'], ['39010', 'Covid Lee', 'BSME'], ['39011', 'Pandemica', 'BSME']]\n"
     ]
    }
   ],
   "source": [
    "# demo: process each line\n",
    "students_data = [s.split(\",\") for s in students_list]\n",
    "print(students_data)\n"
   ]
  },
  {
   "cell_type": "code",
   "execution_count": 10,
   "metadata": {},
   "outputs": [
    {
     "data": {
      "text/plain": [
       "'BSMAC'"
      ]
     },
     "execution_count": 10,
     "metadata": {},
     "output_type": "execute_result"
    }
   ],
   "source": [
    "# demo: access specific element in sublist\n",
    "\n",
    "students_data[1][2]"
   ]
  },
  {
   "cell_type": "markdown",
   "metadata": {},
   "source": [
    "### Python's CSV Module"
   ]
  },
  {
   "cell_type": "markdown",
   "metadata": {},
   "source": [
    "#### Reading CSV files"
   ]
  },
  {
   "cell_type": "code",
   "execution_count": 34,
   "metadata": {},
   "outputs": [
    {
     "name": "stdout",
     "output_type": "stream",
     "text": [
      "<class '_csv.reader'>\n",
      "['\\ufeffid', 'nickname', 'course']\n",
      "<class 'list'>\n",
      "['39001', 'Quarantina', 'BSMAC']\n",
      "<class 'list'>\n",
      "['39002', 'Tuob', 'BSMGT']\n",
      "<class 'list'>\n",
      "['39003', 'Ube', 'BSMGT']\n",
      "<class 'list'>\n",
      "['39004', 'Newnorm', 'BSMGT']\n",
      "<class 'list'>\n",
      "['39005', 'Quarantino', 'BSMGT']\n",
      "<class 'list'>\n",
      "['39006', 'ECQUiel', 'BSMGT']\n",
      "<class 'list'>\n",
      "['39007', 'Vico', 'BSMGT']\n",
      "<class 'list'>\n",
      "['39008', 'Covid Marie', 'BSMGT']\n",
      "<class 'list'>\n",
      "['39009', 'Lala', 'BSMGTH']\n",
      "<class 'list'>\n",
      "['39010', 'Covid Lee', 'BSME']\n",
      "<class 'list'>\n",
      "['39011', 'Pandemica', 'BSME']\n",
      "<class 'list'>\n",
      "[['\\ufeffid', 'nickname', 'course'], ['39001', 'Quarantina', 'BSMAC'], ['39002', 'Tuob', 'BSMGT'], ['39003', 'Ube', 'BSMGT'], ['39004', 'Newnorm', 'BSMGT'], ['39005', 'Quarantino', 'BSMGT'], ['39006', 'ECQUiel', 'BSMGT'], ['39007', 'Vico', 'BSMGT'], ['39008', 'Covid Marie', 'BSMGT'], ['39009', 'Lala', 'BSMGTH'], ['39010', 'Covid Lee', 'BSME'], ['39011', 'Pandemica', 'BSME']]\n"
     ]
    }
   ],
   "source": [
    "# demo: use csv module\n",
    "\n",
    "# demo: import csv\n",
    "import csv\n",
    "\n",
    "new_student_list = []\n",
    "\n",
    "# demo: read csv saved previously\n",
    "with open(\"updated_students.csv\",\"r\") as csvfile:\n",
    "    csvreader = csv.reader(csvfile)\n",
    "    \n",
    "    # get type of csvreader\n",
    "    print(type(csvreader))\n",
    "    \n",
    "    # traverse through the rows of the file\n",
    "    for r in csvreader:\n",
    "        print(r)\n",
    "        print(type(r))\n",
    "        new_student_list.append(r)\n",
    "\n",
    "print(new_student_list)"
   ]
  },
  {
   "cell_type": "markdown",
   "metadata": {},
   "source": [
    "#### Writing CSV files"
   ]
  },
  {
   "cell_type": "code",
   "execution_count": 35,
   "metadata": {},
   "outputs": [],
   "source": [
    "# demo: write CSV\n",
    "\n",
    "with open(\"new_students_3.csv\",\"w\") as csvfile:\n",
    "    csvwriter = csv.writer(csvfile)\n",
    "    \n",
    "    for r in new_student_list:\n",
    "        csvwriter.writerow(r)\n",
    "        "
   ]
  },
  {
   "cell_type": "markdown",
   "metadata": {},
   "source": [
    "#### Reading and Writing CSVs using Dictionaries"
   ]
  },
  {
   "cell_type": "code",
   "execution_count": 37,
   "metadata": {},
   "outputs": [],
   "source": [
    "# simple demo: append dictionary to csv file\n",
    "\n",
    "with open(\"new_students_4.csv\",\"a\") as csvfile:\n",
    "    field_names = [\"id\",\"nickname\",\"course\"]\n",
    "    writer = csv.DictWriter(csvfile,fieldnames=field_names)\n",
    "    \n",
    "    writer.writeheader()\n",
    "    writer.writerow({\"id\":'39012','nickname':'Pandemica','course':'BSITE'})\n",
    "    writer.writerow({\"id\":'39013','nickname':'Isko','course':'BSITE'})\n",
    "    writer.writerow({\"id\":'39014','nickname':'Donald','course':'BSITE'})\n",
    "    \n",
    "    \n",
    "    \n",
    "\n",
    "\n",
    "    \n",
    "    "
   ]
  },
  {
   "cell_type": "code",
   "execution_count": 39,
   "metadata": {},
   "outputs": [
    {
     "name": "stdout",
     "output_type": "stream",
     "text": [
      "39012 Pandemica BSITE\n",
      "39013 Isko BSITE\n",
      "39014 Donald BSITE\n"
     ]
    }
   ],
   "source": [
    "# demo: read csv into dictionary:\n",
    "\n",
    "with open(\"new_students_4.csv\",\"r\") as csvfile:\n",
    "    reader = csv.DictReader(csvfile)\n",
    "    for row in reader:\n",
    "        print(row['id'], row['nickname'], row['course'])\n",
    "\n"
   ]
  },
  {
   "cell_type": "code",
   "execution_count": null,
   "metadata": {},
   "outputs": [],
   "source": []
  }
 ],
 "metadata": {
  "kernelspec": {
   "display_name": "Python 3",
   "language": "python",
   "name": "python3"
  },
  "language_info": {
   "codemirror_mode": {
    "name": "ipython",
    "version": 3
   },
   "file_extension": ".py",
   "mimetype": "text/x-python",
   "name": "python",
   "nbconvert_exporter": "python",
   "pygments_lexer": "ipython3",
   "version": "3.7.6"
  }
 },
 "nbformat": 4,
 "nbformat_minor": 2
}
