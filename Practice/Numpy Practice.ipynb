{
 "cells": [
  {
   "cell_type": "markdown",
   "metadata": {},
   "source": [
    "Arrange and create a matrix"
   ]
  },
  {
   "cell_type": "code",
   "execution_count": 3,
   "metadata": {},
   "outputs": [],
   "source": [
    "import numpy as np"
   ]
  },
  {
   "cell_type": "code",
   "execution_count": 14,
   "metadata": {},
   "outputs": [
    {
     "data": {
      "text/plain": [
       "array([[ 7.35806994,  2.23286818, -4.7064047 ,  1.86890317,  8.02175772],\n",
       "       [ 9.95053307,  8.19174916, -2.45951451,  2.3379915 , 10.45206518],\n",
       "       [ 4.31412192,  2.54600394,  3.60772813,  1.27084886,  2.80140866],\n",
       "       [ 7.8307906 ,  3.70518577,  2.57216328,  3.33663168,  5.19211887],\n",
       "       [-2.05188652,  4.30417353, 10.14607536,  1.46521154,  6.86584345]])"
      ]
     },
     "execution_count": 14,
     "metadata": {},
     "output_type": "execute_result"
    }
   ],
   "source": [
    "np.random.normal(5,5,(5,5))\n"
   ]
  },
  {
   "cell_type": "code",
   "execution_count": 18,
   "metadata": {},
   "outputs": [
    {
     "data": {
      "text/plain": [
       "array([0, 2, 4])"
      ]
     },
     "execution_count": 18,
     "metadata": {},
     "output_type": "execute_result"
    }
   ],
   "source": [
    "np.arange(0,5,2)"
   ]
  },
  {
   "cell_type": "code",
   "execution_count": 40,
   "metadata": {},
   "outputs": [
    {
     "data": {
      "text/plain": [
       "array([[0, 1, 3],\n",
       "       [3, 0, 2],\n",
       "       [1, 2, 0],\n",
       "       [4, 0, 1]])"
      ]
     },
     "execution_count": 40,
     "metadata": {},
     "output_type": "execute_result"
    }
   ],
   "source": [
    "x = np.random.randint(0,5,(5,5))\n",
    "\n",
    "x[:4,2:]"
   ]
  },
  {
   "cell_type": "code",
   "execution_count": 23,
   "metadata": {},
   "outputs": [
    {
     "data": {
      "text/plain": [
       "array([[0.32739393, 0.54788385, 0.05646445, 0.45092935, 0.85125525],\n",
       "       [0.97367189, 0.48374605, 0.38820646, 0.74001949, 0.51976516],\n",
       "       [0.78256745, 0.73500416, 0.78303602, 0.1942761 , 0.0920196 ],\n",
       "       [0.70799223, 0.69727864, 0.95390336, 0.56830842, 0.58962401],\n",
       "       [0.34721998, 0.84035909, 0.61629079, 0.25712007, 0.47996798]])"
      ]
     },
     "execution_count": 23,
     "metadata": {},
     "output_type": "execute_result"
    }
   ],
   "source": [
    "np.random.rand(5,5)"
   ]
  },
  {
   "cell_type": "code",
   "execution_count": 52,
   "metadata": {},
   "outputs": [
    {
     "data": {
      "text/plain": [
       "numpy.ndarray"
      ]
     },
     "execution_count": 52,
     "metadata": {},
     "output_type": "execute_result"
    }
   ],
   "source": [
    "y = np.random.randint(0,20,(3,3))\n",
    "type(y)"
   ]
  },
  {
   "cell_type": "code",
   "execution_count": 53,
   "metadata": {},
   "outputs": [
    {
     "name": "stdout",
     "output_type": "stream",
     "text": [
      "[[ 7 12  0]\n",
      " [15  5  9]\n",
      " [12  4 14]]\n"
     ]
    }
   ],
   "source": [
    "x = np.array(np.random.randint(0,20,(3,3)))\n",
    "print(x)"
   ]
  },
  {
   "cell_type": "code",
   "execution_count": 47,
   "metadata": {},
   "outputs": [],
   "source": [
    "z = x+y"
   ]
  },
  {
   "cell_type": "code",
   "execution_count": 48,
   "metadata": {},
   "outputs": [
    {
     "data": {
      "text/plain": [
       "9"
      ]
     },
     "execution_count": 48,
     "metadata": {},
     "output_type": "execute_result"
    }
   ],
   "source": [
    "z.size"
   ]
  },
  {
   "cell_type": "code",
   "execution_count": 62,
   "metadata": {},
   "outputs": [
    {
     "data": {
      "text/plain": [
       "array([[ 77,  60,   0],\n",
       "       [240,   5,  54],\n",
       "       [132,   4,   0]])"
      ]
     },
     "execution_count": 62,
     "metadata": {},
     "output_type": "execute_result"
    }
   ],
   "source": [
    "hallo = x*y\n",
    "hallo"
   ]
  },
  {
   "cell_type": "code",
   "execution_count": 63,
   "metadata": {},
   "outputs": [
    {
     "name": "stdout",
     "output_type": "stream",
     "text": [
      "     0   1   2\n",
      "0   77  60   0\n",
      "1  240   5  54\n",
      "2  132   4   0\n"
     ]
    }
   ],
   "source": [
    "import pandas as pd\n",
    "\n",
    "meow = pd.DataFrame(hallo)\n",
    "print(meow)"
   ]
  },
  {
   "cell_type": "code",
   "execution_count": 64,
   "metadata": {},
   "outputs": [],
   "source": [
    "students = [{\"name\":\"Alice\",\"course\":\"BSME\",\"strand\":\"STEM\"},\n",
    "            {\"name\":\"Bob\",\"course\":\"BSME\",\"strand\":\"HUMSS\"},\n",
    "            {\"name\":\"Carol\",\"course\":\"BSITE\",\"strand\":\"ABM\"},\n",
    "            {\"name\":\"Charlie\",\"course\":\"BSITE\",\"strand\":\"ABM\"},\n",
    "            {\"name\":\"Chuck\",\"course\":\"BSLM\",\"strand\":\"ABM\"},\n",
    "            {\"name\":\"Charlie\",\"course\":\"BSME\",\"strand\":\"ABM\"},\n",
    "            {\"name\":\"Dave\",\"course\":\"BSMGTH\",\"strand\":\"GAS\"},\n",
    "            {\"name\":\"Eve\",\"course\":\"BSMGT\",\"strand\":\"HUMSS\"},\n",
    "            {\"name\":\"Frank\",\"course\":\"BSITE\",\"strand\":\"Arts and Design\", \"bondage\":\"shibari\"},\n",
    "            ]\n",
    "\n"
   ]
  },
  {
   "cell_type": "code",
   "execution_count": 68,
   "metadata": {},
   "outputs": [
    {
     "data": {
      "text/plain": [
       "0      Alice\n",
       "1        Bob\n",
       "2      Carol\n",
       "3    Charlie\n",
       "4      Chuck\n",
       "5    Charlie\n",
       "6       Dave\n",
       "7        Eve\n",
       "8      Frank\n",
       "Name: name, dtype: object"
      ]
     },
     "execution_count": 68,
     "metadata": {},
     "output_type": "execute_result"
    }
   ],
   "source": [
    "meow = pd.DataFrame(students)\n",
    "meow[\"name\"]"
   ]
  },
  {
   "cell_type": "code",
   "execution_count": null,
   "metadata": {},
   "outputs": [],
   "source": []
  }
 ],
 "metadata": {
  "kernelspec": {
   "display_name": "Python 3",
   "language": "python",
   "name": "python3"
  },
  "language_info": {
   "codemirror_mode": {
    "name": "ipython",
    "version": 3
   },
   "file_extension": ".py",
   "mimetype": "text/x-python",
   "name": "python",
   "nbconvert_exporter": "python",
   "pygments_lexer": "ipython3",
   "version": "3.8.3"
  }
 },
 "nbformat": 4,
 "nbformat_minor": 4
}
