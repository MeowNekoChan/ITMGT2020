{
 "cells": [
  {
   "cell_type": "code",
   "execution_count": 17,
   "metadata": {},
   "outputs": [
    {
     "name": "stdout",
     "output_type": "stream",
     "text": [
      "04 3\n",
      "06 1\n",
      "07 1\n",
      "09 2\n",
      "10 3\n",
      "11 6\n",
      "14 1\n",
      "15 2\n",
      "16 4\n",
      "17 2\n",
      "18 1\n",
      "19 1\n"
     ]
    }
   ],
   "source": [
    "name = \"mbox-short.txt\"\n",
    "handle = open(name)\n",
    "hours = dict()\n",
    "for n in handle:\n",
    "    if \"X-DSPAM-Processed:\" in n:\n",
    "        line = n.split()\n",
    "        time = line[4]\n",
    "        clockhands = time.split(':')\n",
    "        hour = clockhands[0]\n",
    "        hours[hour] = hours.get(hour, 0) + 1\n",
    "        \n",
    "hours_sorted = sorted([(h, num) for h, num in hours.items()])\n",
    "\n",
    "for h, num in hours_sorted:\n",
    "    print(h, num)"
   ]
  },
  {
   "cell_type": "code",
   "execution_count": null,
   "metadata": {},
   "outputs": [],
   "source": []
  }
 ],
 "metadata": {
  "kernelspec": {
   "display_name": "Python 3",
   "language": "python",
   "name": "python3"
  },
  "language_info": {
   "codemirror_mode": {
    "name": "ipython",
    "version": 3
   },
   "file_extension": ".py",
   "mimetype": "text/x-python",
   "name": "python",
   "nbconvert_exporter": "python",
   "pygments_lexer": "ipython3",
   "version": "3.7.6"
  }
 },
 "nbformat": 4,
 "nbformat_minor": 4
}
