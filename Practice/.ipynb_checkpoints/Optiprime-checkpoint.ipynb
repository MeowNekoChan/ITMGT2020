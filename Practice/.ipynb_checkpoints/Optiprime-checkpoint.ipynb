{
 "cells": [
  {
   "cell_type": "code",
   "execution_count": 8,
   "metadata": {},
   "outputs": [],
   "source": [
    "def optiprime_ba(number):\n",
    "    for n in range(2, (number-1)): #divide the entered number, from 2 to the number before the entered number \n",
    "        if number % n == 0:\n",
    "            return print(\"The Number is not prime\")\n",
    "    for i in range(2, (number+2)):\n",
    "        if (number+2) % i == 0:\n",
    "            return print(\"The number is prime but not optiprime\")\n",
    "    for j in range(2, (number-2)):\n",
    "        if (number-2) % j == 0:\n",
    "            return print(\"The number is prime but not optiprime\")\n",
    "    return print(\"The Number is optiprime\")"
   ]
  },
  {
   "cell_type": "code",
   "execution_count": 9,
   "metadata": {},
   "outputs": [
    {
     "name": "stdout",
     "output_type": "stream",
     "text": [
      "The number is prime but not optiprime\n"
     ]
    }
   ],
   "source": [
    "optiprime_ba(7)"
   ]
  },
  {
   "cell_type": "code",
   "execution_count": null,
   "metadata": {},
   "outputs": [],
   "source": []
  }
 ],
 "metadata": {
  "kernelspec": {
   "display_name": "Python 3",
   "language": "python",
   "name": "python3"
  },
  "language_info": {
   "codemirror_mode": {
    "name": "ipython",
    "version": 3
   },
   "file_extension": ".py",
   "mimetype": "text/x-python",
   "name": "python",
   "nbconvert_exporter": "python",
   "pygments_lexer": "ipython3",
   "version": "3.7.6"
  }
 },
 "nbformat": 4,
 "nbformat_minor": 4
}
