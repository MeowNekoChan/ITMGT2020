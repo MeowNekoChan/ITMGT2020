{
 "cells": [
  {
   "cell_type": "code",
   "execution_count": 41,
   "metadata": {},
   "outputs": [],
   "source": [
    "# Enter Value\n",
    "#Check if value is multiple of 7 and 5\n",
    "#At five numbers, enter new line\n",
    "def meow(first_num, second_num):\n",
    "    i = first_num \n",
    "    num_of_num = 0 #number of numbers\n",
    "    while i < second_num:\n",
    "        if i%5== 0 and i%7 == 0:\n",
    "            print(i, end = \" \")\n",
    "            num_of_num += 1\n",
    "            if num_of_num % 5 == 0:\n",
    "                print(\"\")\n",
    "        i+= 1\n",
    "        \n",
    "        "
   ]
  },
  {
   "cell_type": "code",
   "execution_count": 42,
   "metadata": {},
   "outputs": [
    {
     "name": "stdout",
     "output_type": "stream",
     "text": [
      "1505 1540 1575 1610 1645 \n",
      "1680 1715 1750 1785 1820 \n",
      "1855 1890 1925 1960 1995 \n",
      "2030 2065 2100 2135 2170 \n",
      "2205 2240 2275 2310 2345 \n",
      "2380 2415 2450 2485 2520 \n",
      "2555 2590 2625 2660 2695 \n"
     ]
    }
   ],
   "source": [
    "meow(1500, 2700)"
   ]
  },
  {
   "cell_type": "code",
   "execution_count": null,
   "metadata": {},
   "outputs": [],
   "source": []
  }
 ],
 "metadata": {
  "kernelspec": {
   "display_name": "Python 3",
   "language": "python",
   "name": "python3"
  }
 },
 "nbformat": 4,
 "nbformat_minor": 4
}
