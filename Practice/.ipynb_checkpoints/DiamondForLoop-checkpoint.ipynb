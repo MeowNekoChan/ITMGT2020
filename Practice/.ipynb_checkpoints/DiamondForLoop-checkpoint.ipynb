{
 "cells": [
  {
   "cell_type": "code",
   "execution_count": 20,
   "metadata": {},
   "outputs": [],
   "source": [
    "#Define function with \"size\" parameter of how many rows\n",
    "#Create a triangle\n",
    "    #Multiply asterisks times n times 2 each row printed\n",
    "    #Create space for each row minus 1 each row printed\n",
    "#Create an upside down triangle\n",
    "\n",
    "def diamond(size):\n",
    "    for n in range(size) :\n",
    "        asterisks = \"*\" * n * 2\n",
    "        space = \" \" * (size - n)\n",
    "        print(space + asterisks)\n",
    "        \n",
    "    for n in range(size):\n",
    "        asterisks = \"*\" * (size - n)*2\n",
    "        space = \" \" * n\n",
    "        print(space+ asterisks)\n",
    "        "
   ]
  },
  {
   "cell_type": "code",
   "execution_count": 21,
   "metadata": {},
   "outputs": [
    {
     "name": "stdout",
     "output_type": "stream",
     "text": [
      "     \n",
      "    **\n",
      "   ****\n",
      "  ******\n",
      " ********\n",
      "**********\n",
      " ********\n",
      "  ******\n",
      "   ****\n",
      "    **\n"
     ]
    }
   ],
   "source": [
    "diamond(5)"
   ]
  },
  {
   "cell_type": "code",
   "execution_count": null,
   "metadata": {},
   "outputs": [],
   "source": []
  },
  {
   "cell_type": "code",
   "execution_count": null,
   "metadata": {},
   "outputs": [],
   "source": []
  }
 ],
 "metadata": {
  "kernelspec": {
   "display_name": "Python 3",
   "language": "python",
   "name": "python3"
  },
  "language_info": {
   "codemirror_mode": {
    "name": "ipython",
    "version": 3
   },
   "file_extension": ".py",
   "mimetype": "text/x-python",
   "name": "python",
   "nbconvert_exporter": "python",
   "pygments_lexer": "ipython3",
   "version": "3.7.6"
  }
 },
 "nbformat": 4,
 "nbformat_minor": 4
}
