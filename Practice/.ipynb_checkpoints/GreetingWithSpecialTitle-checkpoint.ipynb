{
 "cells": [
  {
   "cell_type": "code",
   "execution_count": 5,
   "metadata": {},
   "outputs": [],
   "source": [
    "#Define the function\n",
    "\n",
    "def greeting(title, preferred_name):\n",
    "    print(\"Good day,\", title, preferred_name)\n",
    "    "
   ]
  },
  {
   "cell_type": "code",
   "execution_count": 7,
   "metadata": {},
   "outputs": [
    {
     "name": "stdout",
     "output_type": "stream",
     "text": [
      "What is your First name? Kyle\n",
      "What is your Family name? Almazan\n",
      "What is your gender? (Enter 1 for Male, 2 for Female, 3 for prefer not to say): 3\n",
      "Do you have a post-graduate degree or a special title? Enter 1 for Yes, 2 for No: 1\n",
      "What special title do you have? Master\n",
      "Which name do you prefer? Enter 1 for First Name, 2 for Family Name: 1\n",
      "Good day, Master Kyle\n"
     ]
    }
   ],
   "source": [
    "#Input Data and Input check\n",
    "\n",
    "first_name = input(\"What is your First name? \")\n",
    "family_name = input(\"What is your Family name? \")\n",
    "while True:\n",
    "    try:\n",
    "        gender = int(input(\"What is your gender? (Enter 1 for Male, 2 for Female, 3 for prefer not to say): \"))\n",
    "        if gender < 1 or gender > 3:\n",
    "            print(\"\")\n",
    "            print(\"You entered a number out of range, please try again\")\n",
    "            continue\n",
    "    except:\n",
    "        print(\"\")\n",
    "        print(\"You did not enter a proper number, please try again\")\n",
    "        continue\n",
    "        \n",
    "    if gender == 1:\n",
    "        title = \"Mr.\"\n",
    "    elif gender == 2:\n",
    "        title = \"Mr.\"\n",
    "    else:\n",
    "        title = \"Mr./Mrs.\"\n",
    "    break\n",
    "    \n",
    "while True:\n",
    "    try: \n",
    "        have_title = int(input(\"Do you have a post-graduate degree or a special title? Enter 1 for Yes, 2 for No: \"))\n",
    "    except: \n",
    "        print(\"\")\n",
    "        print(\"You did not enter a proper number, please try again\")\n",
    "        continue\n",
    "    if have_title < 1 or have_title > 2:\n",
    "        print(\"\")\n",
    "        print(\"You entered a number out of range, please try again: \")\n",
    "        continue\n",
    "    elif have_title == 1:\n",
    "        title = input(\"What special title do you have? \")\n",
    "    break\n",
    "while True:\n",
    "    try: \n",
    "        preferred_name = int(input(\"Which name do you prefer? Enter 1 for First Name, 2 for Family Name: \"))\n",
    "        if preferred_name < 1 or preferred_name > 2:\n",
    "            print(\"\")\n",
    "            print(\"You entered a number out of range, please try again: \")\n",
    "            continue\n",
    "    except: \n",
    "        print(\"\")\n",
    "        print(\"You did not enter a proper number, please try again\")\n",
    "        continue\n",
    "    if preferred_name == 1:\n",
    "        preferred_name = first_name\n",
    "    else:\n",
    "        preferred_name = family_name\n",
    "    break\n",
    "    \n",
    "#execute\n",
    "greeting(title, preferred_name)"
   ]
  },
  {
   "cell_type": "code",
   "execution_count": null,
   "metadata": {},
   "outputs": [],
   "source": []
  },
  {
   "cell_type": "code",
   "execution_count": null,
   "metadata": {},
   "outputs": [],
   "source": []
  }
 ],
 "metadata": {
  "kernelspec": {
   "display_name": "Python 3",
   "language": "python",
   "name": "python3"
  },
  "language_info": {
   "codemirror_mode": {
    "name": "ipython",
    "version": 3
   },
   "file_extension": ".py",
   "mimetype": "text/x-python",
   "name": "python",
   "nbconvert_exporter": "python",
   "pygments_lexer": "ipython3",
   "version": "3.7.6"
  }
 },
 "nbformat": 4,
 "nbformat_minor": 4
}
