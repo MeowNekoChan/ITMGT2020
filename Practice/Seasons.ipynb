{
 "cells": [
  {
   "cell_type": "code",
   "execution_count": 1,
   "metadata": {},
   "outputs": [],
   "source": [
    "#Define Season Function with string parameter and integer parameter\n",
    "#Detect what season the month was placed (delete spaces)\n",
    "\n",
    "def season(month, day):\n",
    "    month = month.strip()\n",
    "    month = month.lower()\n",
    "    spring_months = [\"april\", \"may\"]\n",
    "    summer_months = [\"july\", \"august\"]\n",
    "    fall_months = [ \"october\", \"november\"]\n",
    "    winter_months = [\"january\", \"february\"]\n",
    "    transitional_months = [\"march\", \"june\", \"september\", \"december\"]\n",
    "    if month in spring_months:\n",
    "        print(\"Spring\")\n",
    "    elif month in summer_months:\n",
    "        print(\"Summer\")\n",
    "    elif month in fall_months:\n",
    "        print(\"Fall\")\n",
    "    elif month in winter_months:\n",
    "        print(\"Winter\")\n",
    "    elif month in transitional_months:\n",
    "        if month == \"march\":\n",
    "            if day < 20:\n",
    "                print(\"Winter\")\n",
    "            else:\n",
    "                print(\"Spring\")\n",
    "        elif month == \"june\":\n",
    "            if day < 21:\n",
    "                print(\"Spring\")\n",
    "            else:\n",
    "                print (\"Summer\")\n",
    "        elif month == \"september\":\n",
    "            if day < 22:\n",
    "                print(\"Summer\")\n",
    "            else:\n",
    "                print (\"Fall\")\n",
    "        elif month == \"december\":\n",
    "            if day < 21:\n",
    "                print(\"Fall\")\n",
    "            else:\n",
    "                print (\"Winter\")\n",
    "        else:\n",
    "            print(\"Wrong input\")"
   ]
  },
  {
   "cell_type": "code",
   "execution_count": 3,
   "metadata": {},
   "outputs": [
    {
     "name": "stdout",
     "output_type": "stream",
     "text": [
      "Enter Month:March 39\n",
      "Wrong Month, please try again\n",
      "Enter Month:March\n",
      "Enter Day:39\n",
      "Day out of range, please try again\n",
      "Enter Month:March\n",
      "Enter Day:31\n",
      "Spring\n"
     ]
    }
   ],
   "source": [
    "#Ask for User input\n",
    "#Check input\n",
    "#Call season function and print\n",
    "\n",
    "proper_months = [\"january\", \"february\", \"march\", \"april\", \"may\", \"june\", \"july\", \"august\", \"september\", \"october\", \"november\", \"december\"]\n",
    "while True:\n",
    "    month_entered = input(\"Enter Month:\")\n",
    "    month_entered = month_entered.strip()\n",
    "    month_entered = month_entered.lower()\n",
    "    if month_entered not in proper_months:\n",
    "        print(\"Wrong Month, please try again\")\n",
    "        continue\n",
    "    try:\n",
    "        day_entered = int(input(\"Enter Day:\"))\n",
    "    except:\n",
    "        print(\"Wrong Day, please try again\")\n",
    "        continue\n",
    "    if day_entered > 31 or day_entered < 1:\n",
    "        print(\"Day out of range, please try again\")\n",
    "        continue\n",
    "    break\n",
    "    \n",
    "season(month_entered, day_entered)\n",
    "    "
   ]
  },
  {
   "cell_type": "code",
   "execution_count": null,
   "metadata": {},
   "outputs": [],
   "source": []
  }
 ],
 "metadata": {
  "kernelspec": {
   "display_name": "Python 3",
   "language": "python",
   "name": "python3"
  },
  "language_info": {
   "codemirror_mode": {
    "name": "ipython",
    "version": 3
   },
   "file_extension": ".py",
   "mimetype": "text/x-python",
   "name": "python",
   "nbconvert_exporter": "python",
   "pygments_lexer": "ipython3",
   "version": "3.7.6"
  }
 },
 "nbformat": 4,
 "nbformat_minor": 4
}
