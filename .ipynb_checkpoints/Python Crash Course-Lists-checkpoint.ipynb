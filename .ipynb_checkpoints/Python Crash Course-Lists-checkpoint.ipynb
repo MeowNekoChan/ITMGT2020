{
 "cells": [
  {
   "cell_type": "markdown",
   "metadata": {},
   "source": [
    "### Lists\n",
    "\n",
    "* A list, like a string, is a sequence of values\n",
    "\n",
    "* Instead of just characters, a list can contain different types of values\n",
    "\n",
    "* The values in a list are called **elements** or **items**\n",
    "\n",
    "* It's like a box divided into compartments. The box can contain more than one item, and each item goes into one of the compartments\n"
   ]
  },
  {
   "cell_type": "code",
   "execution_count": 1,
   "metadata": {},
   "outputs": [
    {
     "data": {
      "text/plain": [
       "['cappuccino', 'americano', 'espresso', 'brewed coffee', 'latte']"
      ]
     },
     "execution_count": 1,
     "metadata": {},
     "output_type": "execute_result"
    }
   ],
   "source": [
    "# demo: list definition\n",
    "\n",
    "['cappuccino','americano','espresso','brewed coffee','latte']"
   ]
  },
  {
   "cell_type": "code",
   "execution_count": 2,
   "metadata": {},
   "outputs": [
    {
     "data": {
      "text/plain": [
       "['cappuccino', 110, True]"
      ]
     },
     "execution_count": 2,
     "metadata": {},
     "output_type": "execute_result"
    }
   ],
   "source": [
    "# demo: elements do not need to be of the same type\n",
    "['cappuccino',110,True]\n"
   ]
  },
  {
   "cell_type": "code",
   "execution_count": 3,
   "metadata": {},
   "outputs": [
    {
     "name": "stdout",
     "output_type": "stream",
     "text": [
      "['Espresso Base', ['cappuccino', 'americano', 'espresso']]\n",
      "['SOM', ['QMIT', 'LAS', 'MKTG&LAW']]\n"
     ]
    }
   ],
   "source": [
    "# demo: nested lists\n",
    "print(['Espresso Base',['cappuccino','americano','espresso']])\n",
    "print(['SOM',['QMIT','LAS','MKTG&LAW']])\n"
   ]
  },
  {
   "cell_type": "code",
   "execution_count": 4,
   "metadata": {},
   "outputs": [
    {
     "name": "stdout",
     "output_type": "stream",
     "text": [
      "['cappuccino', 'americano', 'espresso', 'brewed coffee', 'latte']\n"
     ]
    }
   ],
   "source": [
    "# demo: assign lists to variables\n",
    "products = ['cappuccino','americano','espresso','brewed coffee','latte']\n",
    "print(products)"
   ]
  },
  {
   "cell_type": "code",
   "execution_count": 5,
   "metadata": {},
   "outputs": [
    {
     "name": "stdout",
     "output_type": "stream",
     "text": [
      "cappuccino\n",
      "latte\n",
      "latte\n"
     ]
    }
   ],
   "source": [
    "# demo: indexing\n",
    "print(products[0])\n",
    "print(products[-1])\n",
    "print(products[len(products)-1])\n",
    "\n"
   ]
  },
  {
   "cell_type": "code",
   "execution_count": 6,
   "metadata": {},
   "outputs": [],
   "source": [
    "# Break--Whiteboard Discussion to Visualize List\n",
    "\n",
    "\n"
   ]
  },
  {
   "cell_type": "code",
   "execution_count": 7,
   "metadata": {},
   "outputs": [
    {
     "name": "stdout",
     "output_type": "stream",
     "text": [
      "['cappuccino', 'americano', 'espresso', 'brewed coffee', 'latte']\n",
      "['SOM', 'SOSS', 'SOSE', 'SOH']\n"
     ]
    }
   ],
   "source": [
    "# demo: mutable list\n",
    "schools = ['SOM','SOSS','SOSE','SOH']\n",
    "print(products)\n",
    "print(schools)\n",
    "\n",
    "schools[0] = 'JGSOM'"
   ]
  },
  {
   "cell_type": "code",
   "execution_count": 8,
   "metadata": {},
   "outputs": [
    {
     "name": "stdout",
     "output_type": "stream",
     "text": [
      "['JGSOM', 'SOSS', 'SOSE', 'SOH']\n"
     ]
    }
   ],
   "source": [
    "print(schools)"
   ]
  },
  {
   "cell_type": "markdown",
   "metadata": {},
   "source": [
    "#### Merging Lists\n",
    "\n",
    "To merge lists, use the + operator\n"
   ]
  },
  {
   "cell_type": "code",
   "execution_count": 9,
   "metadata": {},
   "outputs": [],
   "source": [
    "# demo: merge two lists\n",
    "new_products = ['red velvet cupcake','banana bread','crinkles','waffles']\n"
   ]
  },
  {
   "cell_type": "code",
   "execution_count": 10,
   "metadata": {},
   "outputs": [
    {
     "name": "stdout",
     "output_type": "stream",
     "text": [
      "['cappuccino', 'americano', 'espresso', 'brewed coffee', 'latte', 'red velvet cupcake', 'banana bread', 'crinkles', 'waffles']\n"
     ]
    }
   ],
   "source": [
    "updated_products = products + new_products\n",
    "print(updated_products)"
   ]
  },
  {
   "cell_type": "code",
   "execution_count": 11,
   "metadata": {},
   "outputs": [
    {
     "data": {
      "text/plain": [
       "[1, 2, 3, 1, 2, 3, 1, 2, 3]"
      ]
     },
     "execution_count": 11,
     "metadata": {},
     "output_type": "execute_result"
    }
   ],
   "source": [
    "# demo: repeat lists\n",
    "[1,2,3]*3\n"
   ]
  },
  {
   "cell_type": "markdown",
   "metadata": {},
   "source": [
    "#### Slicing Lists\n",
    "\n",
    "Slicing also works with lists"
   ]
  },
  {
   "cell_type": "code",
   "execution_count": 12,
   "metadata": {},
   "outputs": [
    {
     "name": "stdout",
     "output_type": "stream",
     "text": [
      "['americano', 'espresso']\n",
      "['cappuccino', 'americano', 'espresso', 'brewed coffee']\n",
      "['brewed coffee', 'latte', 'red velvet cupcake', 'banana bread', 'crinkles', 'waffles']\n",
      "['cappuccino', 'americano', 'espresso', 'brewed coffee', 'latte', 'red velvet cupcake', 'banana bread', 'crinkles', 'waffles']\n"
     ]
    }
   ],
   "source": [
    "# demo: slicing lists\n",
    "print(updated_products[1:3])\n",
    "print(updated_products[:4])\n",
    "print(updated_products[3:])\n",
    "print(updated_products[:])\n"
   ]
  },
  {
   "cell_type": "markdown",
   "metadata": {},
   "source": [
    "#### Slicing to mutate a list\n",
    "\n",
    "Using a slice on the left side of an assignment can update multiple elements"
   ]
  },
  {
   "cell_type": "code",
   "execution_count": 19,
   "metadata": {},
   "outputs": [
    {
     "name": "stdout",
     "output_type": "stream",
     "text": [
      "['cappuccino', 'americano', 'espresso', 'brewed coffee', 'latte', 'red velvet cupcake', 'banana bread', 'crinkles', 'waffles']\n"
     ]
    }
   ],
   "source": [
    "# demo: slicing to mutate a list\n",
    "print(updated_products)"
   ]
  },
  {
   "cell_type": "code",
   "execution_count": 20,
   "metadata": {},
   "outputs": [
    {
     "name": "stdout",
     "output_type": "stream",
     "text": [
      "['cappuccino', 'long black', 'double espresso', 'brew of the day', 'latte', 'red velvet cupcake', 'banana bread', 'crinkles', 'waffles']\n"
     ]
    }
   ],
   "source": [
    "updated_products[1:4] = ['long black','double espresso','brew of the day']\n",
    "print(updated_products)"
   ]
  },
  {
   "cell_type": "markdown",
   "metadata": {},
   "source": [
    "#### List Functions and Methods\n",
    "\n",
    "* ```len()```  \n",
    "* ```extend()```  \n",
    "* ```sort()```  \n",
    "* ```list()``` (converts string to a list of characters)  \n",
    "* ```split(delimiter)``` (breaks a string into a list of words)\n",
    "\n",
    "\n"
   ]
  },
  {
   "cell_type": "code",
   "execution_count": 21,
   "metadata": {},
   "outputs": [
    {
     "name": "stdout",
     "output_type": "stream",
     "text": [
      "9\n"
     ]
    }
   ],
   "source": [
    "# demo: len()\n",
    "\n",
    "print(len(updated_products))"
   ]
  },
  {
   "cell_type": "code",
   "execution_count": 22,
   "metadata": {},
   "outputs": [],
   "source": [
    "# demo: extend()\n",
    "updated_products.extend(['eggs benedict', 'lemondade', 'iced tea'])\n",
    "\n",
    "# optional assignment: research append()\n",
    "\n"
   ]
  },
  {
   "cell_type": "code",
   "execution_count": 23,
   "metadata": {},
   "outputs": [
    {
     "name": "stdout",
     "output_type": "stream",
     "text": [
      "['cappuccino', 'long black', 'double espresso', 'brew of the day', 'latte', 'red velvet cupcake', 'banana bread', 'crinkles', 'waffles', 'eggs benedict', 'lemondade', 'iced tea']\n"
     ]
    }
   ],
   "source": [
    "print(updated_products)"
   ]
  },
  {
   "cell_type": "code",
   "execution_count": 24,
   "metadata": {},
   "outputs": [
    {
     "name": "stdout",
     "output_type": "stream",
     "text": [
      "['cappuccino', 'long black', 'double espresso', 'brew of the day', 'latte', 'red velvet cupcake', 'banana bread', 'crinkles', 'waffles', 'eggs benedict', 'lemonade', 'iced tea']\n"
     ]
    }
   ],
   "source": [
    "updated_products[-2]=\"lemonade\"\n",
    "print(updated_products)"
   ]
  },
  {
   "cell_type": "code",
   "execution_count": 26,
   "metadata": {},
   "outputs": [
    {
     "name": "stdout",
     "output_type": "stream",
     "text": [
      "['banana bread', 'brew of the day', 'cappuccino', 'crinkles', 'double espresso', 'eggs benedict', 'iced tea', 'latte', 'lemonade', 'long black', 'red velvet cupcake', 'waffles']\n"
     ]
    }
   ],
   "source": [
    "# demo: sort()\n",
    "\n",
    "updated_products.sort()\n",
    "print(updated_products)"
   ]
  },
  {
   "cell_type": "code",
   "execution_count": 30,
   "metadata": {},
   "outputs": [
    {
     "data": {
      "text/plain": [
       "['b', 'a', 'n', 'a', 'n', 'a']"
      ]
     },
     "execution_count": 30,
     "metadata": {},
     "output_type": "execute_result"
    }
   ],
   "source": [
    "# demo: list()\n",
    "\n",
    "list(\"banana\")"
   ]
  },
  {
   "cell_type": "code",
   "execution_count": 35,
   "metadata": {},
   "outputs": [
    {
     "data": {
      "text/plain": [
       "['The', 'quick', 'brown', 'fox', 'jumps', 'over', 'the', 'lazy', 'dogs']"
      ]
     },
     "execution_count": 35,
     "metadata": {},
     "output_type": "execute_result"
    }
   ],
   "source": [
    "# demo: split(delimiter)\n",
    "\n",
    "\"The quick brown fox jumps over the lazy dogs\".split()"
   ]
  },
  {
   "cell_type": "code",
   "execution_count": 38,
   "metadata": {},
   "outputs": [],
   "source": [
    "customers = \"Joben,Joe,Elizabeth,Lizelle\".split(\",\")"
   ]
  },
  {
   "cell_type": "code",
   "execution_count": 39,
   "metadata": {},
   "outputs": [
    {
     "data": {
      "text/plain": [
       "4"
      ]
     },
     "execution_count": 39,
     "metadata": {},
     "output_type": "execute_result"
    }
   ],
   "source": [
    "len(customers)"
   ]
  },
  {
   "cell_type": "code",
   "execution_count": 40,
   "metadata": {},
   "outputs": [
    {
     "name": "stdout",
     "output_type": "stream",
     "text": [
      "['Joben', 'Joe', 'Elizabeth', 'Lizelle']\n"
     ]
    }
   ],
   "source": [
    "print(customers)"
   ]
  },
  {
   "cell_type": "code",
   "execution_count": null,
   "metadata": {},
   "outputs": [],
   "source": []
  }
 ],
 "metadata": {
  "kernelspec": {
   "display_name": "Python 3",
   "language": "python",
   "name": "python3"
  },
  "language_info": {
   "codemirror_mode": {
    "name": "ipython",
    "version": 3
   },
   "file_extension": ".py",
   "mimetype": "text/x-python",
   "name": "python",
   "nbconvert_exporter": "python",
   "pygments_lexer": "ipython3",
   "version": "3.7.6"
  }
 },
 "nbformat": 4,
 "nbformat_minor": 2
}
