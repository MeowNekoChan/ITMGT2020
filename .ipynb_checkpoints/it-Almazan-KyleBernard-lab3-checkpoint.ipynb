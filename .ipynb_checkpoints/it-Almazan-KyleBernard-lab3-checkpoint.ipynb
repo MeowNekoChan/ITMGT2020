{
 "cells": [
  {
   "cell_type": "markdown",
   "metadata": {},
   "source": [
    "190197\n",
    "Almazan\n",
    "BSME"
   ]
  },
  {
   "cell_type": "markdown",
   "metadata": {},
   "source": [
    "#### Problem 1"
   ]
  },
  {
   "cell_type": "code",
   "execution_count": 5,
   "metadata": {},
   "outputs": [],
   "source": [
    "social_graph = {\n",
    "    \"@bongolpoc\":{\"first_name\":\"Joselito\",\n",
    "                  \"last_name\":\"Olpoc\",\n",
    "                  \"following\":[\n",
    "                  ]\n",
    "    },\n",
    "    \"@joaquin\":  {\"first_name\":\"Joaquin\",\n",
    "                  \"last_name\":\"Gonzales\",\n",
    "                  \"following\":[\n",
    "                      \"@chums\",\"@jobenilagan\"\n",
    "                  ]\n",
    "    },\n",
    "    \"@chums\" : {\"first_name\":\"Matthew\",\n",
    "                \"last_name\":\"Uy\",\n",
    "                \"following\":[\n",
    "                    \"@bongolpoc\",\"@miketan\",\"@rudyang\",\"@joeilagan\"\n",
    "                ]\n",
    "    },\n",
    "    \"@jobenilagan\":{\"first_name\":\"Joben\",\n",
    "                   \"last_name\":\"Ilagan\",\n",
    "                   \"following\":[\n",
    "                    \"@eeebeee\",\"@joeilagan\",\"@chums\",\"@joaquin\"\n",
    "                   ]\n",
    "    },\n",
    "    \"@joeilagan\":{\"first_name\":\"Joe\",\n",
    "                  \"last_name\":\"Ilagan\",\n",
    "                  \"following\":[\n",
    "                    \"@eeebeee\",\"@jobenilagan\",\"@chums\"\n",
    "                  ]\n",
    "    },\n",
    "    \"@eeebeee\":  {\"first_name\":\"Elizabeth\",\n",
    "                  \"last_name\":\"Ilagan\",\n",
    "                  \"following\":[\n",
    "                    \"@jobenilagan\",\"@joeilagan\"\n",
    "                  ]\n",
    "    },\n",
    "}"
   ]
  },
  {
   "cell_type": "code",
   "execution_count": 15,
   "metadata": {},
   "outputs": [],
   "source": [
    "def relationship_status(from_member, to_member):\n",
    "    profile1 = social_graph[from_member]\n",
    "    profile2 = social_graph[to_member]\n",
    "    followerba = None\n",
    "    followedba = None\n",
    "    if to_member in profile1[\"following\"]:\n",
    "        followerba = True\n",
    "    if from_member in profile2[\"following\"]:\n",
    "        followedba = True\n",
    "    if followedba == True & followerba == True:\n",
    "        return \"friends\"\n",
    "    elif followedba == True & followerba == False:\n",
    "        return \"follower\"\n",
    "    elif followedba == False & followerba == True:\n",
    "        return \"followedby\"\n",
    "    else:\n",
    "        return None\n",
    "        "
   ]
  },
  {
   "cell_type": "code",
   "execution_count": 16,
   "metadata": {},
   "outputs": [
    {
     "name": "stdout",
     "output_type": "stream",
     "text": [
      "friends\n"
     ]
    }
   ],
   "source": [
    "print(relationship_status(\"@joaquin\", \"@jobenilagan\"))"
   ]
  },
  {
   "cell_type": "markdown",
   "metadata": {},
   "source": [
    "#### Problem 2"
   ]
  },
  {
   "cell_type": "code",
   "execution_count": 18,
   "metadata": {},
   "outputs": [],
   "source": [
    "board1 = [\n",
    "['X','X','O'],\n",
    "['O','X','O'],\n",
    "['O','','X'],\n",
    "]\n",
    "\n",
    "board2 = [\n",
    "['X','X','O'],\n",
    "['O','X','O'],\n",
    "['','O','X'],\n",
    "]\n",
    "\n",
    "board3 = [\n",
    "['O','X','O'],\n",
    "['','O','X'],\n",
    "['X','X','O'],\n",
    "]\n",
    "\n",
    "board4 = [\n",
    "['X','X','X'],\n",
    "['O','X','O'],\n",
    "['O','','O'],\n",
    "]\n",
    "\n",
    "board5 = [\n",
    "['X','X','O'],\n",
    "['O','X','O'],\n",
    "['X','','O'],\n",
    "]\n",
    "\n",
    "board6 = [\n",
    "['X','X','O'],\n",
    "['O','X','O'],\n",
    "['X','',''],\n",
    "]\n"
   ]
  },
  {
   "cell_type": "code",
   "execution_count": 35,
   "metadata": {},
   "outputs": [],
   "source": [
    "def get_winner(board):\n",
    "    winner = None\n",
    "    for m in range(3):\n",
    "        if all(s == \"X\" for s in [board[m][i] for i in range(3)]): #Horizontal\n",
    "            return \"X\"\n",
    "        if all(s == \"O\" for s in [board[m][i] for i in range(3)]): #Horizontal\n",
    "            return \"O\"\n",
    "        \n",
    "        if all(s == \"X\" for s in [board[i][m] for i in range(3)]): #Vertical\n",
    "            return \"X\"\n",
    "        if all(s == \"O\" for s in [board[i][m] for i in range(3)]): #Vertical\n",
    "            return \"O\"\n",
    "        \n",
    "    if all(s == \"X\" for s in [board[i][i] for i in range(3)]): #Vertical\n",
    "        return \"X\"\n",
    "    if all(s == \"O\" for s in [board[i][i] for i in range(3)]): #Vertical\n",
    "        return \"O\"\n",
    "        \n",
    "    if all(s == \"X\" for s in [board[2-i][2-i] for i in range(3)]): #Vertical\n",
    "        return \"X\"\n",
    "    if all(s == \"O\" for s in [board[2-i][2-i] for i in range(3)]): #Vertical\n",
    "        return \"O\"\n",
    "    return None"
   ]
  },
  {
   "cell_type": "code",
   "execution_count": 36,
   "metadata": {},
   "outputs": [
    {
     "data": {
      "text/plain": [
       "'X'"
      ]
     },
     "execution_count": 36,
     "metadata": {},
     "output_type": "execute_result"
    }
   ],
   "source": [
    "print(get_winner(board4))"
   ]
  },
  {
   "cell_type": "markdown",
   "metadata": {},
   "source": [
    "#### Problem 3"
   ]
  },
  {
   "cell_type": "code",
   "execution_count": 37,
   "metadata": {},
   "outputs": [],
   "source": [
    "locations = {\n",
    "    \"admu\":{\n",
    "        \"name\":\"Ateneo de Manila University\",\n",
    "        \"latitude\":14.6394557,\n",
    "        \"longitude\":121.0758975        \n",
    "    },\n",
    "    \"upd\":{\n",
    "        \"name\":\"University of the Philippines-Diliman Campus\",\n",
    "        \"latitude\":14.6538519,\n",
    "        \"longitude\":121.0663348\n",
    "    },\n",
    "    \"dlsu\":{\n",
    "        \"name\":\"De La Salle University-Taft\",\n",
    "        \"latitude\":14.5647346,\n",
    "        \"longitude\":120.9909876\n",
    "\n",
    "    }, # <-- Note that Python does not complain about this extra comma. This is perfectly okay.\n",
    "       #     The creators of Python saw that dictionaries tend to be changed a lot, so allowing this is a\n",
    "       #     convenience for developers who need to add elements when needed.\n",
    "}\n",
    "\n",
    "legs = {\n",
    "     (\"upd\",\"admu\"):{\n",
    "         \"travel_time_mins\":10\n",
    "     },\n",
    "     (\"admu\",\"dlsu\"):{\n",
    "         \"travel_time_mins\":35\n",
    "     },\n",
    "     (\"dlsu\",\"upd\"):{\n",
    "         \"travel_time_mins\":55\n",
    "     }\n",
    "}\n"
   ]
  },
  {
   "cell_type": "code",
   "execution_count": 54,
   "metadata": {},
   "outputs": [
    {
     "name": "stdout",
     "output_type": "stream",
     "text": [
      "Enter source: upd\n",
      "Enter Destination: dlsu\n",
      "ETA: 45\n"
     ]
    }
   ],
   "source": [
    "def eta(source,destination):\n",
    "    if source == \"upd\" and destination == \"dlsu\":\n",
    "        legsSilaw1 = legs[(\"upd\", \"admu\")]\n",
    "        travel_time1 = legsSilaw1[\"travel_time_mins\"]\n",
    "        legsSilaw2 = legs[(\"admu\", \"dlsu\")]\n",
    "        travel_time2 = legsSilaw2[\"travel_time_mins\"]\n",
    "        travel_total = travel_time1 + travel_time2\n",
    "        return travel_total\n",
    "    if source == \"admu\" and destination == \"upd\":\n",
    "        legsSilaw1 = legs[(\"admu\", \"dlsu\")]\n",
    "        travel_time1 = legsSilaw1[\"travel_time_mins\"]\n",
    "        legsSilaw2 = legs[(\"dlsu\", \"upd\")]\n",
    "        travel_time2 = legsSilaw2[\"travel_time_mins\"]\n",
    "        travel_total = travel_time1 + travel_time2\n",
    "        return travel_total\n",
    "    \n",
    "    legsSilaw = legs[(source, destination)]\n",
    "    travel_time = legsSilaw[\"travel_time_mins\"]\n",
    "    return travel_time\n",
    "        \n",
    "#input\n",
    "\n",
    "source_inp = input(\"Enter source: \")\n",
    "dest_inp = input(\"Enter Destination: \")\n",
    "result = eta(source_inp, dest_inp)\n",
    "\n",
    "print(\"ETA:\", result)"
   ]
  },
  {
   "cell_type": "code",
   "execution_count": null,
   "metadata": {},
   "outputs": [],
   "source": []
  }
 ],
 "metadata": {
  "kernelspec": {
   "display_name": "Python 3",
   "language": "python",
   "name": "python3"
  },
  "language_info": {
   "codemirror_mode": {
    "name": "ipython",
    "version": 3
   },
   "file_extension": ".py",
   "mimetype": "text/x-python",
   "name": "python",
   "nbconvert_exporter": "python",
   "pygments_lexer": "ipython3",
   "version": "3.7.6"
  }
 },
 "nbformat": 4,
 "nbformat_minor": 4
}
