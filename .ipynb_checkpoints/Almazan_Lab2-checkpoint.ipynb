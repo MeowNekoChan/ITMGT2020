{
 "cells": [
  {
   "cell_type": "markdown",
   "metadata": {},
   "source": [
    "## Lab 2 Assignment\n",
    "\n",
    "Kyle Bernard F. Almazan\n",
    "BSME 1 "
   ]
  },
  {
   "cell_type": "markdown",
   "metadata": {},
   "source": [
    "#### Problem 1"
   ]
  },
  {
   "cell_type": "code",
   "execution_count": 14,
   "metadata": {},
   "outputs": [
    {
     "name": "stdout",
     "output_type": "stream",
     "text": [
      "*****\n",
      "*****\n",
      "*****\n",
      "*****\n",
      "*****\n",
      "\n"
     ]
    }
   ],
   "source": [
    "def print_rectangle(width, height):\n",
    "    result = \"\"\n",
    "    for i in range(height):\n",
    "        for n in range(width):\n",
    "            result += \"*\"\n",
    "        result += \"\\n\"\n",
    "    print(result)\n",
    "    \n",
    "print_rectangle(5,5)"
   ]
  },
  {
   "cell_type": "markdown",
   "metadata": {},
   "source": [
    "#### Problem 1B"
   ]
  },
  {
   "cell_type": "code",
   "execution_count": 15,
   "metadata": {},
   "outputs": [
    {
     "name": "stdout",
     "output_type": "stream",
     "text": [
      "* * * * * \n",
      "* * * * * \n",
      "* * * * * \n",
      "* * * * * \n",
      "* * * * * \n",
      "\n"
     ]
    }
   ],
   "source": [
    "def print_hollow_rectangle(width, height):\n",
    "    result = \"\"\n",
    "    for i in range(height):\n",
    "        if i == 0 :\n",
    "            for n in range(width):\n",
    "                result += \"* \"\n",
    "            result += \"\\n\"\n",
    "        else:\n",
    "            for n in range(width):\n",
    "                result += \"*{}\".format(\" \")\n",
    "            result += \"\\n\"\n",
    "    print(result)\n",
    "            \n",
    "print_hollow_rectangle(5,5)\n",
    "            "
   ]
  },
  {
   "cell_type": "markdown",
   "metadata": {},
   "source": [
    "#### Problem 2"
   ]
  },
  {
   "cell_type": "code",
   "execution_count": 29,
   "metadata": {},
   "outputs": [
    {
     "data": {
      "text/plain": [
       "'cde'"
      ]
     },
     "execution_count": 29,
     "metadata": {},
     "output_type": "execute_result"
    }
   ],
   "source": [
    "def caesar_encrypt(message, shift=0):\n",
    "    result = \"\"\n",
    "    for old_ltr in message:\n",
    "        num_old_ltr = ord(old_ltr)\n",
    "        new_ltr = chr(num_old_ltr+shift)\n",
    "        result += new_ltr\n",
    "    return(result)\n",
    "        \n",
    "caesar_encrypt(\"abc\", 2)    "
   ]
  },
  {
   "cell_type": "markdown",
   "metadata": {},
   "source": [
    "#### Problem 3"
   ]
  },
  {
   "cell_type": "code",
   "execution_count": 84,
   "metadata": {},
   "outputs": [
    {
     "data": {
      "text/plain": [
       "'KFA'"
      ]
     },
     "execution_count": 84,
     "metadata": {},
     "output_type": "execute_result"
    }
   ],
   "source": [
    "def vigenere_encrypt(message, keyword=\"\"):\n",
    "    for n in keyword:\n",
    "        if len(keyword) < len(message):\n",
    "            keyword += n\n",
    "# Directly adding UNIX nums between 2 letters will make it out of range \n",
    "#Hence, subtract first the nums of each letters to 65 before adding it together (char(65) is A kase)\n",
    "#Then add to 65\n",
    "    num_mess_list = []\n",
    "    num_key_list = []\n",
    "    num_result = []\n",
    "    result = \"\"\n",
    "    for old_ltr in message: #Get number ids for unix character\n",
    "        num_old_ltr = ord(old_ltr) \n",
    "        num_mess_list.append(num_old_ltr)\n",
    "    for old_ltrK in keyword:\n",
    "        num_old_ltrK = ord(old_ltrK)\n",
    "        num_key_list.append(num_old_ltrK)\n",
    "    for i in range(len(message)): #Subtract each number here\n",
    "        k = num_mess_list[i] + num_key_list[i] - (2*65)\n",
    "        num_result.append(k)\n",
    "    for m in range(len(num_result)): \n",
    "        if num_result[m] > 25:#Minus out of range numbers to 26\n",
    "            num_result[m] -= 26\n",
    "        num_result[m] += 65 #Add each number to 65\n",
    "    for w in num_result: #Conver to characters\n",
    "        result += chr(w)\n",
    "    return result\n",
    "vigenere_encrypt(\"ABC\", \"KEY\")"
   ]
  },
  {
   "cell_type": "markdown",
   "metadata": {},
   "source": [
    "#### Problem 4"
   ]
  },
  {
   "cell_type": "code",
   "execution_count": 61,
   "metadata": {},
   "outputs": [
    {
     "name": "stdout",
     "output_type": "stream",
     "text": [
      "['U', 'e', 'p', 'u', 'w', 'z', 'R', 'I', 'f', 'W', 'c', 'V', 'Z', 'd', 'j', 'Y', 'Y', 'S', 'D', 'q', 'T', 'K', 'n', 'a', 'C']\n"
     ]
    }
   ],
   "source": [
    "sample_initial_infected_person = 'C'\n",
    "sample_movement_list = ['LMcSEDJfZAqbWRUgYeurIdtzKoihOxBmkQjFlpvNwXyPnCasGHVT',\n",
    "                         'ihpSPvorENDadfcyjnqlmgHWxTCKGIUkeOZzMJXYsuAwVbLRQBFt',\n",
    "                         'qepTuMENGwDztARCImQhiJXfnWbcaVvyrLsZjdYKSFBHPoxglOkU']\n",
    "\n",
    "def trace(initial_infected_person, movement_list=0):\n",
    "    list_of_infected = [[initial_infected_person]] #Needs to have lists each movement (long stressful story why so can' explain haha)\n",
    "    movements = 0\n",
    "    move_list = 0 #To be used to reference v in list_of_infected[v][m]\n",
    "    for line in sample_movement_list: #Create a list each movement in the list\n",
    "        list_of_infected.append([])\n",
    "        \n",
    "        \n",
    "    for n in sample_movement_list: #For each movement\n",
    "        if movements >= movement_list: #To only make the loop execute for how many movements indicated\n",
    "            break\n",
    "        else: movements +=1\n",
    "            \n",
    "        for i in range(len(n)): #Look for index of each character\n",
    "            if n[i] in list_of_infected[move_list]: #Look if infected ba si character or nah noon pa\n",
    "                l = n[i-1]\n",
    "                m = n[i+1]\n",
    "                list_of_infected[(move_list + 1)].append(l) #Add to the next list of infected ppl\n",
    "                list_of_infected[(move_list + 1)].append(m)\n",
    "       \n",
    "        \n",
    "        for i in list_of_infected[move_list]:\n",
    "            if i not in list_of_infected[(move_list + 1)]:\n",
    "                list_of_infected[(move_list + 1)].append(i)\n",
    "        \n",
    "        move_list += 1 #Move to the next movement list of infected ppl\n",
    "                \n",
    "    final_list_of_infected = list_of_infected[movement_list] #Take the last list of ppl\n",
    "    return final_list_of_infected\n",
    "\n",
    "print(trace(\"C\", 3))"
   ]
  },
  {
   "cell_type": "code",
   "execution_count": null,
   "metadata": {},
   "outputs": [],
   "source": []
  }
 ],
 "metadata": {
  "kernelspec": {
   "display_name": "Python 3",
   "language": "python",
   "name": "python3"
  },
  "language_info": {
   "codemirror_mode": {
    "name": "ipython",
    "version": 3
   },
   "file_extension": ".py",
   "mimetype": "text/x-python",
   "name": "python",
   "nbconvert_exporter": "python",
   "pygments_lexer": "ipython3",
   "version": "3.7.6"
  }
 },
 "nbformat": 4,
 "nbformat_minor": 4
}
