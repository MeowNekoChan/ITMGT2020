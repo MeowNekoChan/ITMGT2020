{
 "cells": [
  {
   "cell_type": "markdown",
   "metadata": {},
   "source": [
    " 190197  \n",
    " Almazan  \n",
    " BSME  "
   ]
  },
  {
   "cell_type": "code",
   "execution_count": 1,
   "metadata": {},
   "outputs": [],
   "source": [
    "def three_number_average(input1, input2, input3):\n",
    "    return (input1+input2+input3)/3"
   ]
  },
  {
   "cell_type": "code",
   "execution_count": 2,
   "metadata": {},
   "outputs": [
    {
     "name": "stdout",
     "output_type": "stream",
     "text": [
      "Enter three integers, any numbers with decimal place will be rounded to its greatest integer\n"
     ]
    }
   ],
   "source": [
    "print(\"Enter three integers, any numbers with decimal place will be rounded to its greatest integer\")"
   ]
  },
  {
   "cell_type": "code",
   "execution_count": 3,
   "metadata": {},
   "outputs": [
    {
     "name": "stdout",
     "output_type": "stream",
     "text": [
      "Enter First Number: 1\n",
      "Enter Second Number: 2\n",
      "Enter Third Number: 3\n"
     ]
    }
   ],
   "source": [
    "unconvertednumber1 = float(input(\"Enter First Number: \"))\n",
    "unconvertednumber2 = float(input(\"Enter Second Number: \"))\n",
    "unconvertednumber3 = float(input(\"Enter Third Number: \"))"
   ]
  },
  {
   "cell_type": "code",
   "execution_count": 4,
   "metadata": {},
   "outputs": [],
   "source": [
    "number1 = int(unconvertednumber1)\n",
    "number2 = int(unconvertednumber2)\n",
    "number3 = int(unconvertednumber3)"
   ]
  },
  {
   "cell_type": "code",
   "execution_count": 5,
   "metadata": {},
   "outputs": [],
   "source": [
    "answer = three_number_average(unconvertednumber1, unconvertednumber2, unconvertednumber3)"
   ]
  },
  {
   "cell_type": "code",
   "execution_count": 6,
   "metadata": {},
   "outputs": [
    {
     "name": "stdout",
     "output_type": "stream",
     "text": [
      "The average of the three integers is 2.0\n"
     ]
    }
   ],
   "source": [
    "print(\"The average of the three integers is\", answer)"
   ]
  },
  {
   "cell_type": "code",
   "execution_count": null,
   "metadata": {},
   "outputs": [],
   "source": []
  }
 ],
 "metadata": {
  "kernelspec": {
   "display_name": "Python 3",
   "language": "python",
   "name": "python3"
  },
  "language_info": {
   "codemirror_mode": {
    "name": "ipython",
    "version": 3
   },
   "file_extension": ".py",
   "mimetype": "text/x-python",
   "name": "python",
   "nbconvert_exporter": "python",
   "pygments_lexer": "ipython3",
   "version": "3.7.6"
  }
 },
 "nbformat": 4,
 "nbformat_minor": 4
}
