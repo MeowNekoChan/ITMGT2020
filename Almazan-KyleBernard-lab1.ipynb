{
 "cells": [
  {
   "cell_type": "markdown",
   "metadata": {},
   "source": [
    "190197  \n",
    "Almazan  \n",
    "2 BSME"
   ]
  },
  {
   "cell_type": "code",
   "execution_count": null,
   "metadata": {},
   "outputs": [],
   "source": [
    "# Problem 1"
   ]
  },
  {
   "cell_type": "code",
   "execution_count": 10,
   "metadata": {},
   "outputs": [],
   "source": [
    "def dollars_to_peso(dollar):\n",
    "    convertedValue = dollar * 50\n",
    "    return convertedValue\n",
    "    "
   ]
  },
  {
   "cell_type": "code",
   "execution_count": 11,
   "metadata": {},
   "outputs": [
    {
     "name": "stdout",
     "output_type": "stream",
     "text": [
      "Enter amount in dollars 50\n"
     ]
    }
   ],
   "source": [
    "dollarInput = float(input(\"Enter amount in dollars \"))"
   ]
  },
  {
   "cell_type": "code",
   "execution_count": 12,
   "metadata": {},
   "outputs": [
    {
     "name": "stdout",
     "output_type": "stream",
     "text": [
      "50.0  Dollar(s) is equal to  2500.0  peso(s)\n"
     ]
    }
   ],
   "source": [
    "CurrencyOutput = dollars_to_peso(dollarInput)\n",
    "print(dollarInput, \" Dollar(s) is equal to \", CurrencyOutput, \" peso(s)\")"
   ]
  },
  {
   "cell_type": "code",
   "execution_count": 16,
   "metadata": {},
   "outputs": [],
   "source": [
    "# Problem 2"
   ]
  },
  {
   "cell_type": "code",
   "execution_count": 17,
   "metadata": {},
   "outputs": [],
   "source": [
    "def twointegers(a, b):\n",
    "    abSum = a + b\n",
    "    abDiff = b - a\n",
    "    abProduct = a*b\n",
    "    abIntQuotient = a//b\n",
    "    abRemainder= a % b\n",
    "    print(\"The sum of the two numbers is \", abSum)\n",
    "    print(\"The difference of the two numbers is\", abDiff)\n",
    "    print(\"The product of the two numbers is\", abProduct)\n",
    "    print(\"The quotient of \", a, \"/\", b, \"without its remainder is\", abIntQuotient)\n",
    "    print(\"The remainder of the quotient of the two numbers is \", abRemainder)"
   ]
  },
  {
   "cell_type": "code",
   "execution_count": 18,
   "metadata": {},
   "outputs": [
    {
     "name": "stdout",
     "output_type": "stream",
     "text": [
      "Type the first number 1\n",
      "Type the second number 2\n",
      "The sum of the two numbers is  3.0\n",
      "The difference of the two numbers is 1.0\n",
      "The product of the two numbers is 2.0\n",
      "The quotient of  1.0 / 2.0 without its remainder is 0.0\n",
      "The remainder of the quotient of the two numbers is  1.0\n"
     ]
    }
   ],
   "source": [
    "firstNum = float(input(\"Type the first number \"))\n",
    "secondNum = float(input(\"Type the second number \"))\n",
    "\n",
    "twointegers(firstNum, secondNum)"
   ]
  },
  {
   "cell_type": "code",
   "execution_count": 19,
   "metadata": {},
   "outputs": [],
   "source": [
    "# Problem 3"
   ]
  },
  {
   "cell_type": "code",
   "execution_count": 7,
   "metadata": {},
   "outputs": [],
   "source": [
    "def compute_bmi(kg, cm):\n",
    "    m =  cm/100\n",
    "    BMI = kg/(m**2)\n",
    "    return BMI\n",
    "    "
   ]
  },
  {
   "cell_type": "code",
   "execution_count": 11,
   "metadata": {},
   "outputs": [
    {
     "name": "stdout",
     "output_type": "stream",
     "text": [
      "Input weight in Kilograms 5\n",
      "Input height in Centimeters 500\n"
     ]
    }
   ],
   "source": [
    "inputKG = float(input(\"Input weight in Kilograms \"))\n",
    "inputCM = float(input(\"Input height in Centimeters \"))"
   ]
  },
  {
   "cell_type": "code",
   "execution_count": 12,
   "metadata": {},
   "outputs": [
    {
     "data": {
      "text/plain": [
       "0.2"
      ]
     },
     "execution_count": 12,
     "metadata": {},
     "output_type": "execute_result"
    }
   ],
   "source": [
    "compute_bmi(inputKG, inputCM)"
   ]
  },
  {
   "cell_type": "code",
   "execution_count": null,
   "metadata": {},
   "outputs": [],
   "source": []
  }
 ],
 "metadata": {
  "kernelspec": {
   "display_name": "Python 3",
   "language": "python",
   "name": "python3"
  },
  "language_info": {
   "codemirror_mode": {
    "name": "ipython",
    "version": 3
   },
   "file_extension": ".py",
   "mimetype": "text/x-python",
   "name": "python",
   "nbconvert_exporter": "python",
   "pygments_lexer": "ipython3",
   "version": "3.7.6"
  }
 },
 "nbformat": 4,
 "nbformat_minor": 4
}
