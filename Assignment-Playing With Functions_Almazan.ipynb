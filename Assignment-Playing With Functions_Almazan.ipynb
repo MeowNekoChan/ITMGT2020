{
 "cells": [
  {
   "cell_type": "markdown",
   "metadata": {},
   "source": [
    "## Playing With Functions"
   ]
  },
  {
   "cell_type": "markdown",
   "metadata": {},
   "source": [
    "These exercises are designed to strengthen your grasp on basic programming concepts. Read what is required of you carefully. For example, instructions to **return** values are not the same as those of **printing**.\n",
    "\n",
    "Make sure that cells are in **script mode** (not **interactive mode**).\n"
   ]
  },
  {
   "cell_type": "markdown",
   "metadata": {},
   "source": [
    "# 1\n",
    "### 1 point\n",
    "\n",
    "Write a function that takes the circumference of a circle as a parameter and **returns** the area of that circle.\n",
    "\n",
    "Note: Assume the value of pi is 3.1416"
   ]
  },
  {
   "cell_type": "code",
   "execution_count": 1,
   "metadata": {},
   "outputs": [
    {
     "name": "stdout",
     "output_type": "stream",
     "text": [
      "Enter the circumference of a circle: h\n",
      "Please input a number and try again.\n",
      "Enter the circumference of a circle: 6\n",
      "The area of the circle is 28.2744\n"
     ]
    }
   ],
   "source": [
    "def circle_area(circum):\n",
    "    radius = circum/2\n",
    "    area = 3.1416*(radius**2)\n",
    "    return area\n",
    "\n",
    "while True:\n",
    "    try:\n",
    "        circum_input = float(input(\"Enter the circumference of a circle: \" ))\n",
    "        break\n",
    "    except: \n",
    "        print(\"Please input a number and try again.\")\n",
    "    \n",
    "output = circle_area(circum_input)\n",
    "    \n",
    "print(\"The area of the circle is {}\".format(output))"
   ]
  },
  {
   "cell_type": "markdown",
   "metadata": {},
   "source": [
    "# 2\n",
    "### 2 points\n",
    "\n",
    "Write a function that takes a 5-character string as a parameter and **returns** the string in reverse order.\n",
    "\n",
    "e.g. reverseString(\"Hello\") -> \"olleH\""
   ]
  },
  {
   "cell_type": "code",
   "execution_count": 2,
   "metadata": {},
   "outputs": [
    {
     "name": "stdout",
     "output_type": "stream",
     "text": [
      "Please enter a Five character string: meiw\n",
      "String not 5 characters, please try again\n",
      "Please enter a Five character string: meowo\n",
      "owoem\n"
     ]
    }
   ],
   "source": [
    "def reverse(word):\n",
    "    rword = \"\"\n",
    "    for n in word:\n",
    "        rword = n + rword\n",
    "    return rword\n",
    "\n",
    "while True:\n",
    "    word_inp = input(\"Please enter a Five character string: \")\n",
    "    char_count = len(word_inp)\n",
    "    if char_count != 5 :\n",
    "        print(\"String not 5 characters, please try again\")\n",
    "        continue\n",
    "    else:\n",
    "        break\n",
    "print(reverse(word_inp))\n"
   ]
  },
  {
   "cell_type": "markdown",
   "metadata": {},
   "source": [
    "# 3\n",
    "### 2 points\n",
    "\n",
    "Write a function that takes a positive integer as input and **returns** the sum of all positive integers smaller than and including the number itself.\n",
    "\n",
    "e.g. backAddition(5) -> 1 + 2 + 3 + 4 + 5 -> 15"
   ]
  },
  {
   "cell_type": "code",
   "execution_count": null,
   "metadata": {},
   "outputs": [
    {
     "name": "stdout",
     "output_type": "stream",
     "text": [
      "Enter an integer: k\n",
      "Please Enter an integer!\n",
      "Enter an integer: 40.3\n",
      "Please Enter an integer!\n"
     ]
    }
   ],
   "source": [
    "def addback(num):\n",
    "    m = 0\n",
    "    to_sum = 0 \n",
    "    while m < num:\n",
    "        m += 1\n",
    "        to_sum += m\n",
    "    return to_sum\n",
    "\n",
    "while True:\n",
    "    try: \n",
    "        num_inp = int(input(\"Enter an integer: \"))\n",
    "        break\n",
    "    except: \n",
    "        print(\"Please Enter an integer!\")\n",
    "        \n",
    "print(addback(num_inp))\n",
    "      "
   ]
  },
  {
   "cell_type": "markdown",
   "metadata": {},
   "source": [
    "# 4\n",
    "### 5 points (all or nothing)\n",
    "\n",
    "The sum of the squares of the first ten natural numbers is,\n",
    "12 + 22 + ... + 102 = 385\n",
    "\n",
    "The square of the sum of the first ten natural numbers is,\n",
    "(1 + 2 + ... + 10)2 = 552 = 3025\n",
    "\n",
    "Hence the difference between the sum of the squares of the first ten natural numbers and the square of the sum is 3025 − 385 = 2640.\n",
    "\n",
    "Find the difference between the sum of the squares of the first one hundred natural numbers and the square of the sum.\n",
    "\n",
    "Show code that generates the answer."
   ]
  },
  {
   "cell_type": "code",
   "execution_count": 16,
   "metadata": {},
   "outputs": [
    {
     "name": "stdout",
     "output_type": "stream",
     "text": [
      "2640\n"
     ]
    }
   ],
   "source": [
    "def natSquares (num):\n",
    "    to_square = 0\n",
    "    to_sum = 0\n",
    "    while to_square < num :\n",
    "        to_square += 1\n",
    "        to_sum += to_square**2\n",
    "    return to_sum\n",
    "\n",
    "def allSquared(num):\n",
    "    to_sum = 0\n",
    "    cur_num_eval = 0 #current number evaluated\n",
    "    while cur_num_eval < num:\n",
    "        cur_num_eval += 1\n",
    "        to_sum += cur_num_eval\n",
    "    sum_squared = to_sum**2\n",
    "    return sum_squared\n",
    "\n",
    "def minusNa(input_num):\n",
    "    result = allSquared(input_num) - natSquares(input_num)\n",
    "    return result\n",
    "\n",
    "print(minusNa(10))\n",
    "        \n",
    "        \n",
    "        "
   ]
  },
  {
   "cell_type": "markdown",
   "metadata": {},
   "source": [
    "# 5\n",
    "### 5 points \n",
    "\n",
    "Write a function that allows a self-service Point of Sale system to give you the exact change when you pay in cash.\n",
    "\n",
    "The function should accept the number of cents entered by the caller of the function. It then should **display** the denominations of the coins that should be given to the buyer. The change should use as few coins as possible. Assume that the Point of Sale system is loaded with 1 cent, 5 cents, 10 cents, 25 cents and 1 peso coins.\n",
    "\n",
    "Write main program code that accepts the number of cents manually through user input and calls the function written above.\n",
    "\n",
    "**Input:** The program accepts one positive integer, ***cents***, corresponding to the total change to be given by the Point of Sale system.\n",
    "\n",
    "**Output:** The number of 1 peso, 25 cents, 10 cents, 5 cents and 1 cent coins respectively. There should be one output per line.\n",
    "\n",
    "**Sample Input 1:**  \n",
    "105\n",
    "\n",
    "**Sample Output 1**  \n",
    "1  \n",
    "0  \n",
    "0  \n",
    "1  \n",
    "0  \n",
    "\n",
    "**Sample Input 2:**  \n",
    "69  \n",
    "\n",
    "**Sample Output 2:**  \n",
    "0  \n",
    "2  \n",
    "1  \n",
    "1  \n",
    "4  \n",
    "\n",
    "\n"
   ]
  },
  {
   "cell_type": "code",
   "execution_count": 71,
   "metadata": {},
   "outputs": [
    {
     "name": "stdout",
     "output_type": "stream",
     "text": [
      "Enter how much change in cents: 136\n",
      "1\n",
      "1\n",
      "1\n",
      "0\n",
      "1\n"
     ]
    }
   ],
   "source": [
    "def coins(num): #135\n",
    "    peso = num // 100\n",
    "    mod_peso = num % 100 \n",
    "    cents25 = mod_peso // 25\n",
    "    mod_25 = ((num%100)%25) \n",
    "    cents10 = mod_25 // 10\n",
    "    mod_10 = (((num%100)%25)%10)\n",
    "    cents5 = mod_10 //5\n",
    "    mod_5 = ((((num%100)%25)%10)%5)\n",
    "    cents1 = mod_5\n",
    "    result = (peso, cents25, cents10, cents5, cents1)\n",
    "    \n",
    "    return result\n",
    "\n",
    "while True:\n",
    "    try:\n",
    "        cents = int(input(\"Enter how much change in cents: \"))\n",
    "    except:\n",
    "        print(\"Please enter an integer! \")\n",
    "        continue\n",
    "    break\n",
    "    \n",
    "to_print = coins(cents)\n",
    "\n",
    "for n in to_print:\n",
    "    print(n)"
   ]
  },
  {
   "cell_type": "code",
   "execution_count": 70,
   "metadata": {},
   "outputs": [],
   "source": [
    "\\"
   ]
  },
  {
   "cell_type": "code",
   "execution_count": null,
   "metadata": {},
   "outputs": [],
   "source": []
  }
 ],
 "metadata": {
  "kernelspec": {
   "display_name": "Python 3",
   "language": "python",
   "name": "python3"
  },
  "language_info": {
   "codemirror_mode": {
    "name": "ipython",
    "version": 3
   },
   "file_extension": ".py",
   "mimetype": "text/x-python",
   "name": "python",
   "nbconvert_exporter": "python",
   "pygments_lexer": "ipython3",
   "version": "3.7.6"
  }
 },
 "nbformat": 4,
 "nbformat_minor": 2
}
